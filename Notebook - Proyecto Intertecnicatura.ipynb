{
 "cells": [
  {
   "cell_type": "markdown",
   "metadata": {
    "id": "1M65kDGzLFy7"
   },
   "source": [
    "**Preguntas que buscamos responder**\n",
    "\n",
    "Análisis de calidad de datos:\n",
    "1. ¿Qué IDs de sensor o Silos/Ubicaciones presentan el mayor número de valores faltantes (NULLs/vacíos)\n",
    "2. ¿Existen mediciones de Temperatura o CO2 que sean anómalas (muy altas o muy bajas) y no estén asociadas a niveles altos de humedad?\n",
    "\n",
    "Requerimiento del usuario:\n",
    "\n",
    "> Registrar y notificar automáticamente al usuario cuando se detecten condiciones anómalas en las variables H, T y CO2, con el objeto de accionar preventivamente, evitando o minimizando daños en los granos almacenados\n",
    "\n",
    "Análisis de cumplimiento y localización de riesgo:\n",
    "1. ¿Qué porcentaje de las mediciones de humedad están en estado 'Normal' (HR 63%), 'Preventivo' (HR entre 63% y 67%), y 'Alarma' (HR > 67%)?\n",
    "2. ¿Cuál es el Silo (1, 2 o 3) y la Ubicación (Superior, Medio, Inferior) que registra la mayor frecuencia o persistencia de lecturas en rango 'Alarma' (HR > 67%)?\n",
    "3. ¿En qué fechas/horas se detectó un gradiente de humedad (diferencia) superior a 5% HR entre dos puntos de medición del mismo silo (por ejemplo, Superior vs. Inferior)?\n",
    "4. ¿Este gradiente se asocia a un patrón de riesgo específico?\n",
    "\n",
    "Detección de Eventos y Tendencias Críticas (Temporal)\n",
    "\n",
    "Estas preguntas buscan identificar los focos de deterioro y los problemas de los sensores.\n",
    "\n",
    "1. Identificar todos los casos donde la HR en un sensor específico haya mostrado un incremento sostenido (por ejemplo, un aumento mayor al 2% en un periodo de 6 horas). ¿Estos incrementos ocurren con mayor frecuencia en ciertas horas del día (patrones diarios)?  \n",
    "2. ¿Se observa una correlación negativa significativa donde la Temperatura disminuye y la Humedad Relativa aumenta?\n",
    "3. ¿Existe una correlación positiva entre la HR alta (HR > 63%) y los niveles de CO2 en los mismos puntos de medición?\n",
    "\n",
    "\n",
    "\n",
    "\n",
    "\n",
    "\n",
    "\n"
   ]
  },
  {
   "cell_type": "code",
   "execution_count": 1,
   "metadata": {
    "executionInfo": {
     "elapsed": 389,
     "status": "ok",
     "timestamp": 1760975544489,
     "user": {
      "displayName": "Mariano Melchiorre",
      "userId": "18299652292000033757"
     },
     "user_tz": 180
    },
    "id": "IwJDsM1Kj9WH"
   },
   "outputs": [],
   "source": [
    "# Importamos las librerías necesarias para el desarrollo del proyecto\n",
    "import pandas as pd"
   ]
  },
  {
   "cell_type": "markdown",
   "metadata": {
    "id": "LM4VQPA-kN8I"
   },
   "source": [
    "#⚙️ **PROCESO ETL**\n",
    "\n",
    "Llevamos adelante el proceso de extracción, transformación y carga de los datos contenidos en el dataset original. Este proceso tuvo como objetivo recuperar y preparar la información para su análisis posterior, asegurando la integridad y confiabilidad de los datos."
   ]
  },
  {
   "cell_type": "markdown",
   "metadata": {
    "id": "um-bRj_OvTf1"
   },
   "source": [
    "🗂️ **EXTRACT**\n",
    "\n",
    "En esta etapa se extrajeron los datos desde la fuente original y se cargaron en un DataFrame de pandas, que servirá como estructura de datos central para el análisis posterior.\n",
    "Cada fila representa un registro de medición y cada columna detalla las características de ese registro, lo que permite explorar la información de manera ordenada y eficiente.\n",
    "\n",
    "Las acciones realizadas en esta etapa fueron:\n",
    "\n",
    "*   **Carga de datos**: se importó el dataset y se almacenaron los registros en un DataFrame.\n",
    "*   **Inspección inicial y revisión de la estructura**: se analizaron los primeros registros, la información general de dataset, la cantidad de filas/columnas, y los tipos de dato para asegurar compatibilidad con la etapa de análisis.\n",
    "*   **Revisión de la integridad de los datos**: se identificaron valores faltantes, se revisaron valores únicos en columnas clave para conocer los componentes del sistema IoT, y se detectaron registros duplicados exactos.\n",
    "\n",
    "Este proceso no solo fue fundamental para acceder a los datos con los que se trabajará, sino que también permitió definir las acciones a realizar en la etapa de Transform.\n",
    "\n"
   ]
  },
  {
   "cell_type": "code",
   "execution_count": 3,
   "metadata": {
    "colab": {
     "base_uri": "https://localhost:8080/",
     "height": 321
    },
    "executionInfo": {
     "elapsed": 210,
     "status": "error",
     "timestamp": 1760975544748,
     "user": {
      "displayName": "Mariano Melchiorre",
      "userId": "18299652292000033757"
     },
     "user_tz": 180
    },
    "id": "0etse8PfmSXl",
    "outputId": "66a788d2-142b-4100-c98a-f2fc40d91ed9"
   },
   "outputs": [],
   "source": [
    "# Leemos los datos del dataset y los almacenamos en un DataFrame\n",
    "# No se especifica 'index_col' para generar un índice autoincremental\n",
    "#montamos el drive\n",
    "\n",
    "df = pd.read_csv('dataset_sensores.csv')"
   ]
  },
  {
   "cell_type": "code",
   "execution_count": 4,
   "metadata": {
    "executionInfo": {
     "elapsed": 820,
     "status": "aborted",
     "timestamp": 1760975544637,
     "user": {
      "displayName": "Mariano Melchiorre",
      "userId": "18299652292000033757"
     },
     "user_tz": 180
    },
    "id": "7LqVK5Uns8DK"
   },
   "outputs": [
    {
     "data": {
      "text/html": [
       "<div>\n",
       "<style scoped>\n",
       "    .dataframe tbody tr th:only-of-type {\n",
       "        vertical-align: middle;\n",
       "    }\n",
       "\n",
       "    .dataframe tbody tr th {\n",
       "        vertical-align: top;\n",
       "    }\n",
       "\n",
       "    .dataframe thead th {\n",
       "        text-align: right;\n",
       "    }\n",
       "</style>\n",
       "<table border=\"1\" class=\"dataframe\">\n",
       "  <thead>\n",
       "    <tr style=\"text-align: right;\">\n",
       "      <th></th>\n",
       "      <th>Fecha y hora</th>\n",
       "      <th>ID sensor</th>\n",
       "      <th>ID silo</th>\n",
       "      <th>Ubicación</th>\n",
       "      <th>Temperatura (°C)</th>\n",
       "      <th>Humedad (%)</th>\n",
       "      <th>CO2 (%)</th>\n",
       "    </tr>\n",
       "  </thead>\n",
       "  <tbody>\n",
       "    <tr>\n",
       "      <th>0</th>\n",
       "      <td>2025-06-01 00:00:00</td>\n",
       "      <td>1</td>\n",
       "      <td>Silo 1</td>\n",
       "      <td>superior</td>\n",
       "      <td>13.494586</td>\n",
       "      <td>8.189056</td>\n",
       "      <td>3.164652</td>\n",
       "    </tr>\n",
       "    <tr>\n",
       "      <th>1</th>\n",
       "      <td>2025-06-01 00:00:00</td>\n",
       "      <td>2</td>\n",
       "      <td>Silo 1</td>\n",
       "      <td>medio</td>\n",
       "      <td>11.210830</td>\n",
       "      <td>8.508008</td>\n",
       "      <td>2.728765</td>\n",
       "    </tr>\n",
       "    <tr>\n",
       "      <th>2</th>\n",
       "      <td>2025-06-01 00:00:00</td>\n",
       "      <td>3</td>\n",
       "      <td>Silo 1</td>\n",
       "      <td>inferior</td>\n",
       "      <td>14.311821</td>\n",
       "      <td>8.993510</td>\n",
       "      <td>2.550330</td>\n",
       "    </tr>\n",
       "    <tr>\n",
       "      <th>3</th>\n",
       "      <td>2025-06-01 00:00:00</td>\n",
       "      <td>4</td>\n",
       "      <td>Silo 2</td>\n",
       "      <td>superior</td>\n",
       "      <td>14.289996</td>\n",
       "      <td>10.565392</td>\n",
       "      <td>3.738029</td>\n",
       "    </tr>\n",
       "    <tr>\n",
       "      <th>4</th>\n",
       "      <td>2025-06-01 00:00:00</td>\n",
       "      <td>5</td>\n",
       "      <td>Silo 2</td>\n",
       "      <td>medio</td>\n",
       "      <td>14.420994</td>\n",
       "      <td>9.908821</td>\n",
       "      <td>3.247908</td>\n",
       "    </tr>\n",
       "  </tbody>\n",
       "</table>\n",
       "</div>"
      ],
      "text/plain": [
       "          Fecha y hora  ID sensor ID silo Ubicación  Temperatura (°C)  \\\n",
       "0  2025-06-01 00:00:00          1  Silo 1  superior         13.494586   \n",
       "1  2025-06-01 00:00:00          2  Silo 1     medio         11.210830   \n",
       "2  2025-06-01 00:00:00          3  Silo 1  inferior         14.311821   \n",
       "3  2025-06-01 00:00:00          4  Silo 2  superior         14.289996   \n",
       "4  2025-06-01 00:00:00          5  Silo 2     medio         14.420994   \n",
       "\n",
       "   Humedad (%)   CO2 (%)  \n",
       "0     8.189056  3.164652  \n",
       "1     8.508008  2.728765  \n",
       "2     8.993510  2.550330  \n",
       "3    10.565392  3.738029  \n",
       "4     9.908821  3.247908  "
      ]
     },
     "execution_count": 4,
     "metadata": {},
     "output_type": "execute_result"
    }
   ],
   "source": [
    "# Leemos los primeros 5 registros\n",
    "df.head(5)"
   ]
  },
  {
   "cell_type": "code",
   "execution_count": 5,
   "metadata": {
    "executionInfo": {
     "elapsed": 822,
     "status": "aborted",
     "timestamp": 1760975544640,
     "user": {
      "displayName": "Mariano Melchiorre",
      "userId": "18299652292000033757"
     },
     "user_tz": 180
    },
    "id": "xGKxLilhul3D"
   },
   "outputs": [
    {
     "name": "stdout",
     "output_type": "stream",
     "text": [
      "<class 'pandas.core.frame.DataFrame'>\n",
      "RangeIndex: 2764 entries, 0 to 2763\n",
      "Data columns (total 7 columns):\n",
      " #   Column            Non-Null Count  Dtype  \n",
      "---  ------            --------------  -----  \n",
      " 0   Fecha y hora      2764 non-null   object \n",
      " 1   ID sensor         2764 non-null   int64  \n",
      " 2   ID silo           2764 non-null   object \n",
      " 3   Ubicación         2764 non-null   object \n",
      " 4   Temperatura (°C)  2522 non-null   float64\n",
      " 5   Humedad (%)       2533 non-null   float64\n",
      " 6   CO2 (%)           2535 non-null   float64\n",
      "dtypes: float64(3), int64(1), object(3)\n",
      "memory usage: 151.3+ KB\n"
     ]
    }
   ],
   "source": [
    "# Visualizamos la información general del dataset\n",
    "df.info()"
   ]
  },
  {
   "cell_type": "code",
   "execution_count": 6,
   "metadata": {
    "executionInfo": {
     "elapsed": 826,
     "status": "aborted",
     "timestamp": 1760975544644,
     "user": {
      "displayName": "Mariano Melchiorre",
      "userId": "18299652292000033757"
     },
     "user_tz": 180
    },
    "id": "UMKmnN0XvBFZ"
   },
   "outputs": [
    {
     "data": {
      "text/plain": [
       "(2764, 7)"
      ]
     },
     "execution_count": 6,
     "metadata": {},
     "output_type": "execute_result"
    }
   ],
   "source": [
    "# Averiguamos el total de filas y columnas\n",
    "df.shape"
   ]
  },
  {
   "cell_type": "code",
   "execution_count": 7,
   "metadata": {
    "executionInfo": {
     "elapsed": 827,
     "status": "aborted",
     "timestamp": 1760975544646,
     "user": {
      "displayName": "Mariano Melchiorre",
      "userId": "18299652292000033757"
     },
     "user_tz": 180
    },
    "id": "zw2oQOp2vjX4"
   },
   "outputs": [
    {
     "data": {
      "text/plain": [
       "Fecha y hora         object\n",
       "ID sensor             int64\n",
       "ID silo              object\n",
       "Ubicación            object\n",
       "Temperatura (°C)    float64\n",
       "Humedad (%)         float64\n",
       "CO2 (%)             float64\n",
       "dtype: object"
      ]
     },
     "execution_count": 7,
     "metadata": {},
     "output_type": "execute_result"
    }
   ],
   "source": [
    "# Inspeccionamos el tipo de dato de las columnas\n",
    "df.dtypes"
   ]
  },
  {
   "cell_type": "code",
   "execution_count": 8,
   "metadata": {
    "executionInfo": {
     "elapsed": 828,
     "status": "aborted",
     "timestamp": 1760975544648,
     "user": {
      "displayName": "Mariano Melchiorre",
      "userId": "18299652292000033757"
     },
     "user_tz": 180
    },
    "id": "ENtWQdbL8suK"
   },
   "outputs": [
    {
     "data": {
      "text/plain": [
       "Fecha y hora          0\n",
       "ID sensor             0\n",
       "ID silo               0\n",
       "Ubicación             0\n",
       "Temperatura (°C)    242\n",
       "Humedad (%)         231\n",
       "CO2 (%)             229\n",
       "dtype: int64"
      ]
     },
     "execution_count": 8,
     "metadata": {},
     "output_type": "execute_result"
    }
   ],
   "source": [
    "# Detección de valores faltantes (NaN) por columna\n",
    "df.isnull().sum()"
   ]
  },
  {
   "cell_type": "code",
   "execution_count": 9,
   "metadata": {
    "executionInfo": {
     "elapsed": 830,
     "status": "aborted",
     "timestamp": 1760975544650,
     "user": {
      "displayName": "Mariano Melchiorre",
      "userId": "18299652292000033757"
     },
     "user_tz": 180
    },
    "id": "uSjQAwVwckRW"
   },
   "outputs": [
    {
     "data": {
      "text/plain": [
       "array(['2025-06-01 00:00:00', '2025-06-01 12:00:00',\n",
       "       '2025-06-02 00:00:00', '2025-06-02 12:00:00',\n",
       "       '2025-06-03 00:00:00', '2025-06-03 12:00:00',\n",
       "       '2025-06-04 00:00:00', '2025-06-04 12:00:00',\n",
       "       '2025-06-05 00:00:00', '2025-06-05 12:00:00',\n",
       "       '2025-06-06 00:00:00', '2025-06-06 12:00:00',\n",
       "       '2025-06-07 00:00:00', '2025-06-07 12:00:00',\n",
       "       '2025-06-08 00:00:00', '2025-06-08 12:00:00',\n",
       "       '2025-06-09 00:00:00', '2025-06-09 12:00:00',\n",
       "       '2025-06-10 00:00:00', '2025-06-10 12:00:00',\n",
       "       '2025-06-11 00:00:00', '2025-06-11 12:00:00',\n",
       "       '2025-06-12 00:00:00', '2025-06-12 12:00:00',\n",
       "       '2025-06-13 00:00:00', '2025-06-13 12:00:00',\n",
       "       '2025-06-14 00:00:00', '2025-06-14 12:00:00',\n",
       "       '2025-06-15 00:00:00', '2025-06-15 12:00:00',\n",
       "       '2025-06-16 00:00:00', '2025-06-16 12:00:00',\n",
       "       '2025-06-17 00:00:00', '2025-06-17 12:00:00',\n",
       "       '2025-06-18 00:00:00', '2025-06-18 12:00:00',\n",
       "       '2025-06-19 00:00:00', '2025-06-19 12:00:00',\n",
       "       '2025-06-20 00:00:00', '2025-06-20 12:00:00',\n",
       "       '2025-06-21 00:00:00', '2025-06-21 12:00:00',\n",
       "       '2025-06-22 00:00:00', '2025-06-22 12:00:00',\n",
       "       '2025-06-23 00:00:00', '2025-06-23 12:00:00',\n",
       "       '2025-06-24 00:00:00', '2025-06-24 12:00:00',\n",
       "       '2025-06-25 00:00:00', '2025-06-25 12:00:00',\n",
       "       '2025-06-26 00:00:00', '2025-06-26 12:00:00',\n",
       "       '2025-06-27 00:00:00', '2025-06-27 12:00:00',\n",
       "       '2025-06-28 00:00:00', '2025-06-28 12:00:00',\n",
       "       '2025-06-29 00:00:00', '2025-06-29 12:00:00',\n",
       "       '2025-06-30 00:00:00', '2025-06-30 12:00:00',\n",
       "       '2025-07-01 00:00:00', '2025-07-01 12:00:00',\n",
       "       '2025-07-02 00:00:00', '2025-07-02 12:00:00',\n",
       "       '2025-07-03 00:00:00', '2025-07-03 12:00:00',\n",
       "       '2025-07-04 00:00:00', '2025-07-04 12:00:00',\n",
       "       '2025-07-05 00:00:00', '2025-07-05 12:00:00',\n",
       "       '2025-07-06 00:00:00', '2025-07-06 12:00:00',\n",
       "       '2025-07-07 00:00:00', '2025-07-07 12:00:00',\n",
       "       '2025-07-08 00:00:00', '2025-07-08 12:00:00',\n",
       "       '2025-07-09 00:00:00', '2025-07-09 12:00:00',\n",
       "       '2025-07-10 00:00:00', '2025-07-10 12:00:00',\n",
       "       '2025-07-11 00:00:00', '2025-07-11 12:00:00',\n",
       "       '2025-07-12 00:00:00', '2025-07-12 12:00:00',\n",
       "       '2025-07-13 00:00:00', '2025-07-13 12:00:00',\n",
       "       '2025-07-14 00:00:00', '2025-07-14 12:00:00',\n",
       "       '2025-07-15 00:00:00', '2025-07-15 12:00:00',\n",
       "       '2025-07-16 00:00:00', '2025-07-16 12:00:00',\n",
       "       '2025-07-17 00:00:00', '2025-07-17 12:00:00',\n",
       "       '2025-07-18 00:00:00', '2025-07-18 12:00:00',\n",
       "       '2025-07-19 00:00:00', '2025-07-19 12:00:00',\n",
       "       '2025-07-20 00:00:00', '2025-07-20 12:00:00',\n",
       "       '2025-07-21 00:00:00', '2025-07-21 12:00:00',\n",
       "       '2025-07-22 00:00:00', '2025-07-22 12:00:00',\n",
       "       '2025-07-23 00:00:00', '2025-07-23 12:00:00',\n",
       "       '2025-07-24 00:00:00', '2025-07-24 12:00:00',\n",
       "       '2025-07-25 00:00:00', '2025-07-25 12:00:00',\n",
       "       '2025-07-26 00:00:00', '2025-07-26 12:00:00',\n",
       "       '2025-07-27 00:00:00', '2025-07-27 12:00:00',\n",
       "       '2025-07-28 00:00:00', '2025-07-28 12:00:00',\n",
       "       '2025-07-29 00:00:00', '2025-07-29 12:00:00',\n",
       "       '2025-07-30 00:00:00', '2025-07-30 12:00:00',\n",
       "       '2025-07-31 00:00:00', '2025-07-31 12:00:00',\n",
       "       '2025-08-01 00:00:00', '2025-08-01 12:00:00',\n",
       "       '2025-08-02 00:00:00', '2025-08-02 12:00:00',\n",
       "       '2025-08-03 00:00:00', '2025-08-03 12:00:00',\n",
       "       '2025-08-04 00:00:00', '2025-08-04 12:00:00',\n",
       "       '2025-08-05 00:00:00', '2025-08-05 12:00:00',\n",
       "       '2025-08-06 00:00:00', '2025-08-06 12:00:00',\n",
       "       '2025-08-07 00:00:00', '2025-08-07 12:00:00',\n",
       "       '2025-08-08 00:00:00', '2025-08-08 12:00:00',\n",
       "       '2025-08-09 00:00:00', '2025-08-09 12:00:00',\n",
       "       '2025-08-10 00:00:00', '2025-08-10 12:00:00',\n",
       "       '2025-08-11 00:00:00', '2025-08-11 12:00:00',\n",
       "       '2025-08-12 00:00:00', '2025-08-12 12:00:00',\n",
       "       '2025-08-13 00:00:00', '2025-08-13 12:00:00',\n",
       "       '2025-08-14 00:00:00', '2025-08-14 12:00:00',\n",
       "       '2025-08-15 00:00:00', '2025-08-15 12:00:00',\n",
       "       '2025-08-16 00:00:00', '2025-08-16 12:00:00',\n",
       "       '2025-08-17 00:00:00', '2025-08-17 12:00:00',\n",
       "       '2025-08-18 00:00:00', '2025-08-18 12:00:00',\n",
       "       '2025-08-19 00:00:00', '2025-08-19 12:00:00',\n",
       "       '2025-08-20 00:00:00', '2025-08-20 12:00:00',\n",
       "       '2025-08-21 00:00:00', '2025-08-21 12:00:00',\n",
       "       '2025-08-22 00:00:00', '2025-08-22 12:00:00',\n",
       "       '2025-08-23 00:00:00', '2025-08-23 12:00:00',\n",
       "       '2025-08-24 00:00:00', '2025-08-24 12:00:00',\n",
       "       '2025-08-25 00:00:00', '2025-08-25 12:00:00',\n",
       "       '2025-08-26 00:00:00', '2025-08-26 12:00:00',\n",
       "       '2025-08-27 00:00:00', '2025-08-27 12:00:00',\n",
       "       '2025-08-28 00:00:00', '2025-08-28 12:00:00',\n",
       "       '2025-08-29 00:00:00', '2025-08-29 12:00:00',\n",
       "       '2025-08-30 00:00:00', '2025-08-30 12:00:00',\n",
       "       '2025-08-31 00:00:00', '2025-08-31 12:00:00',\n",
       "       '2025-09-01 00:00:00', '2025-09-01 12:00:00',\n",
       "       '2025-09-02 00:00:00', '2025-09-02 12:00:00',\n",
       "       '2025-09-03 00:00:00', '2025-09-03 12:00:00',\n",
       "       '2025-09-04 00:00:00', '2025-09-04 12:00:00',\n",
       "       '2025-09-05 00:00:00', '2025-09-05 12:00:00',\n",
       "       '2025-09-06 00:00:00', '2025-09-06 12:00:00',\n",
       "       '2025-09-07 00:00:00', '2025-09-07 12:00:00',\n",
       "       '2025-09-08 00:00:00', '2025-09-08 12:00:00',\n",
       "       '2025-09-09 00:00:00', '2025-09-09 12:00:00',\n",
       "       '2025-09-10 00:00:00', '2025-09-10 12:00:00',\n",
       "       '2025-09-11 00:00:00', '2025-09-11 12:00:00',\n",
       "       '2025-09-12 00:00:00', '2025-09-12 12:00:00',\n",
       "       '2025-09-13 00:00:00', '2025-09-13 12:00:00',\n",
       "       '2025-09-14 00:00:00', '2025-09-14 12:00:00',\n",
       "       '2025-09-15 00:00:00', '2025-09-15 12:00:00',\n",
       "       '2025-09-16 00:00:00', '2025-09-16 12:00:00',\n",
       "       '2025-09-17 00:00:00', '2025-09-17 12:00:00',\n",
       "       '2025-09-18 00:00:00', '2025-09-18 12:00:00',\n",
       "       '2025-09-19 00:00:00', '2025-09-19 12:00:00',\n",
       "       '2025-09-20 00:00:00', '2025-09-20 12:00:00',\n",
       "       '2025-09-21 00:00:00', '2025-09-21 12:00:00',\n",
       "       '2025-09-22 00:00:00', '2025-09-22 12:00:00',\n",
       "       '2025-09-23 00:00:00', '2025-09-23 12:00:00',\n",
       "       '2025-09-24 00:00:00', '2025-09-24 12:00:00',\n",
       "       '2025-09-25 00:00:00', '2025-09-25 12:00:00',\n",
       "       '2025-09-26 00:00:00', '2025-09-26 12:00:00',\n",
       "       '2025-09-27 00:00:00', '2025-09-27 12:00:00',\n",
       "       '2025-09-28 00:00:00', '2025-09-28 12:00:00',\n",
       "       '2025-09-29 00:00:00', '2025-09-29 12:00:00',\n",
       "       '2025-09-30 00:00:00', '2025-09-30 12:00:00',\n",
       "       '2025-10-01 00:00:00', '2025-10-01 12:00:00',\n",
       "       '2025-10-02 00:00:00', '2025-10-02 12:00:00',\n",
       "       '2025-10-03 00:00:00', '2025-10-03 12:00:00',\n",
       "       '2025-10-04 00:00:00', '2025-10-04 12:00:00',\n",
       "       '2025-10-05 00:00:00', '2025-10-05 12:00:00',\n",
       "       '2025-10-06 00:00:00', '2025-10-06 12:00:00',\n",
       "       '2025-10-07 00:00:00', '2025-10-07 12:00:00',\n",
       "       '2025-10-08 00:00:00', '2025-10-08 12:00:00',\n",
       "       '2025-10-09 00:00:00', '2025-10-09 12:00:00',\n",
       "       '2025-10-10 00:00:00', '2025-10-10 12:00:00',\n",
       "       '2025-10-11 00:00:00', '2025-10-11 12:00:00',\n",
       "       '2025-10-12 00:00:00', '2025-10-12 12:00:00',\n",
       "       '2025-10-13 00:00:00', '2025-10-13 12:00:00',\n",
       "       '2025-10-14 00:00:00', '2025-10-14 12:00:00',\n",
       "       '2025-10-15 00:00:00', '2025-10-15 12:00:00',\n",
       "       '2025-10-16 00:00:00', '2025-10-16 12:00:00',\n",
       "       '2025-10-17 00:00:00', '2025-10-17 12:00:00',\n",
       "       '2025-10-18 00:00:00', '2025-10-18 12:00:00',\n",
       "       '2025-10-19 00:00:00', '2025-10-19 12:00:00',\n",
       "       '2025-10-20 00:00:00', '2025-10-20 12:00:00',\n",
       "       '2025-10-21 00:00:00', '2025-10-21 12:00:00',\n",
       "       '2025-10-22 00:00:00', '2025-10-22 12:00:00',\n",
       "       '2025-10-23 00:00:00', '2025-10-23 12:00:00',\n",
       "       '2025-10-24 00:00:00', '2025-10-24 12:00:00',\n",
       "       '2025-10-25 00:00:00', '2025-10-25 12:00:00',\n",
       "       '2025-10-26 00:00:00', '2025-10-26 12:00:00',\n",
       "       '2025-10-27 00:00:00', '2025-10-27 12:00:00',\n",
       "       '2025-10-28 00:00:00', '2025-10-28 12:00:00',\n",
       "       '2025-10-29 00:00:00', '2025-10-29 12:00:00',\n",
       "       '2025-10-30 00:00:00', '2025-10-30 12:00:00',\n",
       "       '2025-10-31 00:00:00', '2025-10-31 12:00:00'], dtype=object)"
      ]
     },
     "execution_count": 9,
     "metadata": {},
     "output_type": "execute_result"
    }
   ],
   "source": [
    "# Detección de valores únicos en columnas clave: 'Fecha y hora', 'ID sensor', 'ID silo' y 'Ubicación'.\n",
    "df[\"Fecha y hora\"].unique()"
   ]
  },
  {
   "cell_type": "code",
   "execution_count": 10,
   "metadata": {
    "executionInfo": {
     "elapsed": 986,
     "status": "aborted",
     "timestamp": 1760975544807,
     "user": {
      "displayName": "Mariano Melchiorre",
      "userId": "18299652292000033757"
     },
     "user_tz": 180
    },
    "id": "lnNy-5K2cl53"
   },
   "outputs": [
    {
     "data": {
      "text/plain": [
       "array([1, 2, 3, 4, 5, 6, 7, 8, 9])"
      ]
     },
     "execution_count": 10,
     "metadata": {},
     "output_type": "execute_result"
    }
   ],
   "source": [
    "df[\"ID sensor\"].unique()"
   ]
  },
  {
   "cell_type": "code",
   "execution_count": 11,
   "metadata": {
    "executionInfo": {
     "elapsed": 988,
     "status": "aborted",
     "timestamp": 1760975544809,
     "user": {
      "displayName": "Mariano Melchiorre",
      "userId": "18299652292000033757"
     },
     "user_tz": 180
    },
    "id": "AqPNCQnZcpDk"
   },
   "outputs": [
    {
     "data": {
      "text/plain": [
       "array(['Silo 1', 'Silo 2', 'Silo 3'], dtype=object)"
      ]
     },
     "execution_count": 11,
     "metadata": {},
     "output_type": "execute_result"
    }
   ],
   "source": [
    "df[\"ID silo\"].unique()"
   ]
  },
  {
   "cell_type": "code",
   "execution_count": 12,
   "metadata": {
    "executionInfo": {
     "elapsed": 989,
     "status": "aborted",
     "timestamp": 1760975544811,
     "user": {
      "displayName": "Mariano Melchiorre",
      "userId": "18299652292000033757"
     },
     "user_tz": 180
    },
    "id": "S5xAJo5zcrMo"
   },
   "outputs": [
    {
     "data": {
      "text/plain": [
       "array(['superior', 'medio', 'inferior'], dtype=object)"
      ]
     },
     "execution_count": 12,
     "metadata": {},
     "output_type": "execute_result"
    }
   ],
   "source": [
    "df[\"Ubicación\"].unique()"
   ]
  },
  {
   "cell_type": "code",
   "execution_count": 13,
   "metadata": {
    "executionInfo": {
     "elapsed": 990,
     "status": "aborted",
     "timestamp": 1760975544812,
     "user": {
      "displayName": "Mariano Melchiorre",
      "userId": "18299652292000033757"
     },
     "user_tz": 180
    },
    "id": "AILN5C3ucteu"
   },
   "outputs": [
    {
     "data": {
      "text/html": [
       "<div>\n",
       "<style scoped>\n",
       "    .dataframe tbody tr th:only-of-type {\n",
       "        vertical-align: middle;\n",
       "    }\n",
       "\n",
       "    .dataframe tbody tr th {\n",
       "        vertical-align: top;\n",
       "    }\n",
       "\n",
       "    .dataframe thead th {\n",
       "        text-align: right;\n",
       "    }\n",
       "</style>\n",
       "<table border=\"1\" class=\"dataframe\">\n",
       "  <thead>\n",
       "    <tr style=\"text-align: right;\">\n",
       "      <th></th>\n",
       "      <th>Fecha y hora</th>\n",
       "      <th>ID sensor</th>\n",
       "      <th>ID silo</th>\n",
       "      <th>Ubicación</th>\n",
       "      <th>Temperatura (°C)</th>\n",
       "      <th>Humedad (%)</th>\n",
       "      <th>CO2 (%)</th>\n",
       "    </tr>\n",
       "  </thead>\n",
       "  <tbody>\n",
       "    <tr>\n",
       "      <th>0</th>\n",
       "      <td>2025-06-01 00:00:00</td>\n",
       "      <td>1</td>\n",
       "      <td>Silo 1</td>\n",
       "      <td>superior</td>\n",
       "      <td>13.494586</td>\n",
       "      <td>8.189056</td>\n",
       "      <td>3.164652</td>\n",
       "    </tr>\n",
       "    <tr>\n",
       "      <th>1</th>\n",
       "      <td>2025-06-01 00:00:00</td>\n",
       "      <td>2</td>\n",
       "      <td>Silo 1</td>\n",
       "      <td>medio</td>\n",
       "      <td>11.210830</td>\n",
       "      <td>8.508008</td>\n",
       "      <td>2.728765</td>\n",
       "    </tr>\n",
       "    <tr>\n",
       "      <th>2</th>\n",
       "      <td>2025-06-01 00:00:00</td>\n",
       "      <td>3</td>\n",
       "      <td>Silo 1</td>\n",
       "      <td>inferior</td>\n",
       "      <td>14.311821</td>\n",
       "      <td>8.993510</td>\n",
       "      <td>2.550330</td>\n",
       "    </tr>\n",
       "    <tr>\n",
       "      <th>3</th>\n",
       "      <td>2025-06-01 00:00:00</td>\n",
       "      <td>4</td>\n",
       "      <td>Silo 2</td>\n",
       "      <td>superior</td>\n",
       "      <td>14.289996</td>\n",
       "      <td>10.565392</td>\n",
       "      <td>3.738029</td>\n",
       "    </tr>\n",
       "    <tr>\n",
       "      <th>4</th>\n",
       "      <td>2025-06-01 00:00:00</td>\n",
       "      <td>5</td>\n",
       "      <td>Silo 2</td>\n",
       "      <td>medio</td>\n",
       "      <td>14.420994</td>\n",
       "      <td>9.908821</td>\n",
       "      <td>3.247908</td>\n",
       "    </tr>\n",
       "    <tr>\n",
       "      <th>5</th>\n",
       "      <td>2025-06-01 00:00:00</td>\n",
       "      <td>6</td>\n",
       "      <td>Silo 2</td>\n",
       "      <td>inferior</td>\n",
       "      <td>13.969569</td>\n",
       "      <td>8.353516</td>\n",
       "      <td>3.983539</td>\n",
       "    </tr>\n",
       "    <tr>\n",
       "      <th>6</th>\n",
       "      <td>2025-06-01 00:00:00</td>\n",
       "      <td>7</td>\n",
       "      <td>Silo 3</td>\n",
       "      <td>superior</td>\n",
       "      <td>14.928864</td>\n",
       "      <td>9.829876</td>\n",
       "      <td>2.511818</td>\n",
       "    </tr>\n",
       "    <tr>\n",
       "      <th>7</th>\n",
       "      <td>2025-06-01 00:00:00</td>\n",
       "      <td>8</td>\n",
       "      <td>Silo 3</td>\n",
       "      <td>medio</td>\n",
       "      <td>13.820210</td>\n",
       "      <td>11.210931</td>\n",
       "      <td>3.916386</td>\n",
       "    </tr>\n",
       "    <tr>\n",
       "      <th>8</th>\n",
       "      <td>2025-06-01 00:00:00</td>\n",
       "      <td>9</td>\n",
       "      <td>Silo 3</td>\n",
       "      <td>inferior</td>\n",
       "      <td>11.495531</td>\n",
       "      <td>9.540807</td>\n",
       "      <td>2.519978</td>\n",
       "    </tr>\n",
       "    <tr>\n",
       "      <th>9</th>\n",
       "      <td>2025-06-01 12:00:00</td>\n",
       "      <td>1</td>\n",
       "      <td>Silo 1</td>\n",
       "      <td>superior</td>\n",
       "      <td>10.789627</td>\n",
       "      <td>9.241363</td>\n",
       "      <td>3.890861</td>\n",
       "    </tr>\n",
       "    <tr>\n",
       "      <th>2754</th>\n",
       "      <td>2025-06-01 00:00:00</td>\n",
       "      <td>1</td>\n",
       "      <td>Silo 1</td>\n",
       "      <td>superior</td>\n",
       "      <td>13.494586</td>\n",
       "      <td>8.189056</td>\n",
       "      <td>3.164652</td>\n",
       "    </tr>\n",
       "    <tr>\n",
       "      <th>2755</th>\n",
       "      <td>2025-06-01 00:00:00</td>\n",
       "      <td>2</td>\n",
       "      <td>Silo 1</td>\n",
       "      <td>medio</td>\n",
       "      <td>11.210830</td>\n",
       "      <td>8.508008</td>\n",
       "      <td>2.728765</td>\n",
       "    </tr>\n",
       "    <tr>\n",
       "      <th>2756</th>\n",
       "      <td>2025-06-01 00:00:00</td>\n",
       "      <td>3</td>\n",
       "      <td>Silo 1</td>\n",
       "      <td>inferior</td>\n",
       "      <td>14.311821</td>\n",
       "      <td>8.993510</td>\n",
       "      <td>2.550330</td>\n",
       "    </tr>\n",
       "    <tr>\n",
       "      <th>2757</th>\n",
       "      <td>2025-06-01 00:00:00</td>\n",
       "      <td>4</td>\n",
       "      <td>Silo 2</td>\n",
       "      <td>superior</td>\n",
       "      <td>14.289996</td>\n",
       "      <td>10.565392</td>\n",
       "      <td>3.738029</td>\n",
       "    </tr>\n",
       "    <tr>\n",
       "      <th>2758</th>\n",
       "      <td>2025-06-01 00:00:00</td>\n",
       "      <td>5</td>\n",
       "      <td>Silo 2</td>\n",
       "      <td>medio</td>\n",
       "      <td>14.420994</td>\n",
       "      <td>9.908821</td>\n",
       "      <td>3.247908</td>\n",
       "    </tr>\n",
       "    <tr>\n",
       "      <th>2759</th>\n",
       "      <td>2025-06-01 00:00:00</td>\n",
       "      <td>6</td>\n",
       "      <td>Silo 2</td>\n",
       "      <td>inferior</td>\n",
       "      <td>13.969569</td>\n",
       "      <td>8.353516</td>\n",
       "      <td>3.983539</td>\n",
       "    </tr>\n",
       "    <tr>\n",
       "      <th>2760</th>\n",
       "      <td>2025-06-01 00:00:00</td>\n",
       "      <td>7</td>\n",
       "      <td>Silo 3</td>\n",
       "      <td>superior</td>\n",
       "      <td>14.928864</td>\n",
       "      <td>9.829876</td>\n",
       "      <td>2.511818</td>\n",
       "    </tr>\n",
       "    <tr>\n",
       "      <th>2761</th>\n",
       "      <td>2025-06-01 00:00:00</td>\n",
       "      <td>8</td>\n",
       "      <td>Silo 3</td>\n",
       "      <td>medio</td>\n",
       "      <td>13.820210</td>\n",
       "      <td>11.210931</td>\n",
       "      <td>3.916386</td>\n",
       "    </tr>\n",
       "    <tr>\n",
       "      <th>2762</th>\n",
       "      <td>2025-06-01 00:00:00</td>\n",
       "      <td>9</td>\n",
       "      <td>Silo 3</td>\n",
       "      <td>inferior</td>\n",
       "      <td>11.495531</td>\n",
       "      <td>9.540807</td>\n",
       "      <td>2.519978</td>\n",
       "    </tr>\n",
       "    <tr>\n",
       "      <th>2763</th>\n",
       "      <td>2025-06-01 12:00:00</td>\n",
       "      <td>1</td>\n",
       "      <td>Silo 1</td>\n",
       "      <td>superior</td>\n",
       "      <td>10.789627</td>\n",
       "      <td>9.241363</td>\n",
       "      <td>3.890861</td>\n",
       "    </tr>\n",
       "  </tbody>\n",
       "</table>\n",
       "</div>"
      ],
      "text/plain": [
       "             Fecha y hora  ID sensor ID silo Ubicación  Temperatura (°C)  \\\n",
       "0     2025-06-01 00:00:00          1  Silo 1  superior         13.494586   \n",
       "1     2025-06-01 00:00:00          2  Silo 1     medio         11.210830   \n",
       "2     2025-06-01 00:00:00          3  Silo 1  inferior         14.311821   \n",
       "3     2025-06-01 00:00:00          4  Silo 2  superior         14.289996   \n",
       "4     2025-06-01 00:00:00          5  Silo 2     medio         14.420994   \n",
       "5     2025-06-01 00:00:00          6  Silo 2  inferior         13.969569   \n",
       "6     2025-06-01 00:00:00          7  Silo 3  superior         14.928864   \n",
       "7     2025-06-01 00:00:00          8  Silo 3     medio         13.820210   \n",
       "8     2025-06-01 00:00:00          9  Silo 3  inferior         11.495531   \n",
       "9     2025-06-01 12:00:00          1  Silo 1  superior         10.789627   \n",
       "2754  2025-06-01 00:00:00          1  Silo 1  superior         13.494586   \n",
       "2755  2025-06-01 00:00:00          2  Silo 1     medio         11.210830   \n",
       "2756  2025-06-01 00:00:00          3  Silo 1  inferior         14.311821   \n",
       "2757  2025-06-01 00:00:00          4  Silo 2  superior         14.289996   \n",
       "2758  2025-06-01 00:00:00          5  Silo 2     medio         14.420994   \n",
       "2759  2025-06-01 00:00:00          6  Silo 2  inferior         13.969569   \n",
       "2760  2025-06-01 00:00:00          7  Silo 3  superior         14.928864   \n",
       "2761  2025-06-01 00:00:00          8  Silo 3     medio         13.820210   \n",
       "2762  2025-06-01 00:00:00          9  Silo 3  inferior         11.495531   \n",
       "2763  2025-06-01 12:00:00          1  Silo 1  superior         10.789627   \n",
       "\n",
       "      Humedad (%)   CO2 (%)  \n",
       "0        8.189056  3.164652  \n",
       "1        8.508008  2.728765  \n",
       "2        8.993510  2.550330  \n",
       "3       10.565392  3.738029  \n",
       "4        9.908821  3.247908  \n",
       "5        8.353516  3.983539  \n",
       "6        9.829876  2.511818  \n",
       "7       11.210931  3.916386  \n",
       "8        9.540807  2.519978  \n",
       "9        9.241363  3.890861  \n",
       "2754     8.189056  3.164652  \n",
       "2755     8.508008  2.728765  \n",
       "2756     8.993510  2.550330  \n",
       "2757    10.565392  3.738029  \n",
       "2758     9.908821  3.247908  \n",
       "2759     8.353516  3.983539  \n",
       "2760     9.829876  2.511818  \n",
       "2761    11.210931  3.916386  \n",
       "2762     9.540807  2.519978  \n",
       "2763     9.241363  3.890861  "
      ]
     },
     "execution_count": 13,
     "metadata": {},
     "output_type": "execute_result"
    }
   ],
   "source": [
    "# Identificación de registros duplicados exactos\n",
    "df[df.duplicated(keep=False)]"
   ]
  },
  {
   "cell_type": "code",
   "execution_count": 14,
   "metadata": {
    "executionInfo": {
     "elapsed": 991,
     "status": "aborted",
     "timestamp": 1760975544813,
     "user": {
      "displayName": "Mariano Melchiorre",
      "userId": "18299652292000033757"
     },
     "user_tz": 180
    },
    "id": "MMygvw2JcxPU"
   },
   "outputs": [
    {
     "data": {
      "text/plain": [
       "Fecha y hora         ID sensor  ID silo  Ubicación  Temperatura (°C)  Humedad (%)  CO2 (%) \n",
       "2025-06-01 00:00:00  1          Silo 1   superior   13.494586         8.189056     3.164652    2\n",
       "                     2          Silo 1   medio      11.210830         8.508008     2.728765    2\n",
       "                     3          Silo 1   inferior   14.311821         8.993510     2.550330    2\n",
       "                     4          Silo 2   superior   14.289996         10.565392    3.738029    2\n",
       "                     5          Silo 2   medio      14.420994         9.908821     3.247908    2\n",
       "                     6          Silo 2   inferior   13.969569         8.353516     3.983539    2\n",
       "                     7          Silo 3   superior   14.928864         9.829876     2.511818    2\n",
       "                     8          Silo 3   medio      13.820210         11.210931    3.916386    2\n",
       "                     9          Silo 3   inferior   11.495531         9.540807     2.519978    2\n",
       "2025-06-01 12:00:00  1          Silo 1   superior   10.789627         9.241363     3.890861    2\n",
       "dtype: int64"
      ]
     },
     "execution_count": 14,
     "metadata": {},
     "output_type": "execute_result"
    }
   ],
   "source": [
    "# Agrupamiento de filas idénticas y conteo de cuántas repeticiones exactas tiene cada grupo\n",
    "df.groupby(list(df.columns)).size().loc[lambda x: x > 1]"
   ]
  },
  {
   "cell_type": "markdown",
   "metadata": {
    "id": "zKGCiXG6dCK-"
   },
   "source": [
    "🧰 **TRANSFORM**"
   ]
  },
  {
   "cell_type": "markdown",
   "metadata": {
    "id": "Gd6WH0HlXhi8"
   },
   "source": [
    "Operaciones posibles:\n",
    "\n",
    "*   Cambiar los nombres de las columnas para evitar espacios o tildes. (df.rename)\n",
    "*   Conversión de tipo de dato: convertir  columna 'Fecha y hora' a tipo datetime (pd.to_datetime). Evaluar si las columnas de temperatura, humedad y CO2 requerirían algún tipo de conversión, porque los valores que contienen son demasiado grandes, tendríamos que ver cómo llevar esos valores a un rango de 0 a 100, por ejemplo.\n",
    "*   Definir qué tratamiento haremos de los valores nulos: imputarlos usando df.fillna, llenando la celda vacía con otro valor - la media, la mediana, o 'desconocido' -; eliminarlos usando df.dropna, etc.)\n",
    "*   Eliminar registros idénticos duplicados [df.drop_duplicates()]\n",
    "\n",
    "\n",
    "\n"
   ]
  },
  {
   "cell_type": "code",
   "execution_count": 16,
   "metadata": {
    "executionInfo": {
     "elapsed": 991,
     "status": "aborted",
     "timestamp": 1760975544814,
     "user": {
      "displayName": "Mariano Melchiorre",
      "userId": "18299652292000033757"
     },
     "user_tz": 180
    },
    "id": "2CyQZuEdi2XR"
   },
   "outputs": [
    {
     "name": "stdout",
     "output_type": "stream",
     "text": [
      "Shape (filas, columnas): (2764, 7)\n"
     ]
    },
    {
     "data": {
      "text/html": [
       "<div>\n",
       "<style scoped>\n",
       "    .dataframe tbody tr th:only-of-type {\n",
       "        vertical-align: middle;\n",
       "    }\n",
       "\n",
       "    .dataframe tbody tr th {\n",
       "        vertical-align: top;\n",
       "    }\n",
       "\n",
       "    .dataframe thead th {\n",
       "        text-align: right;\n",
       "    }\n",
       "</style>\n",
       "<table border=\"1\" class=\"dataframe\">\n",
       "  <thead>\n",
       "    <tr style=\"text-align: right;\">\n",
       "      <th></th>\n",
       "      <th>Fecha y hora</th>\n",
       "      <th>ID sensor</th>\n",
       "      <th>ID silo</th>\n",
       "      <th>Ubicación</th>\n",
       "      <th>Temperatura (°C)</th>\n",
       "      <th>Humedad (%)</th>\n",
       "      <th>CO2 (%)</th>\n",
       "    </tr>\n",
       "  </thead>\n",
       "  <tbody>\n",
       "    <tr>\n",
       "      <th>0</th>\n",
       "      <td>2025-06-01 00:00:00</td>\n",
       "      <td>1</td>\n",
       "      <td>Silo 1</td>\n",
       "      <td>superior</td>\n",
       "      <td>13.494586</td>\n",
       "      <td>8.189056</td>\n",
       "      <td>3.164652</td>\n",
       "    </tr>\n",
       "    <tr>\n",
       "      <th>1</th>\n",
       "      <td>2025-06-01 00:00:00</td>\n",
       "      <td>2</td>\n",
       "      <td>Silo 1</td>\n",
       "      <td>medio</td>\n",
       "      <td>11.210830</td>\n",
       "      <td>8.508008</td>\n",
       "      <td>2.728765</td>\n",
       "    </tr>\n",
       "    <tr>\n",
       "      <th>2</th>\n",
       "      <td>2025-06-01 00:00:00</td>\n",
       "      <td>3</td>\n",
       "      <td>Silo 1</td>\n",
       "      <td>inferior</td>\n",
       "      <td>14.311821</td>\n",
       "      <td>8.993510</td>\n",
       "      <td>2.550330</td>\n",
       "    </tr>\n",
       "    <tr>\n",
       "      <th>3</th>\n",
       "      <td>2025-06-01 00:00:00</td>\n",
       "      <td>4</td>\n",
       "      <td>Silo 2</td>\n",
       "      <td>superior</td>\n",
       "      <td>14.289996</td>\n",
       "      <td>10.565392</td>\n",
       "      <td>3.738029</td>\n",
       "    </tr>\n",
       "    <tr>\n",
       "      <th>4</th>\n",
       "      <td>2025-06-01 00:00:00</td>\n",
       "      <td>5</td>\n",
       "      <td>Silo 2</td>\n",
       "      <td>medio</td>\n",
       "      <td>14.420994</td>\n",
       "      <td>9.908821</td>\n",
       "      <td>3.247908</td>\n",
       "    </tr>\n",
       "  </tbody>\n",
       "</table>\n",
       "</div>"
      ],
      "text/plain": [
       "          Fecha y hora  ID sensor ID silo Ubicación  Temperatura (°C)  \\\n",
       "0  2025-06-01 00:00:00          1  Silo 1  superior         13.494586   \n",
       "1  2025-06-01 00:00:00          2  Silo 1     medio         11.210830   \n",
       "2  2025-06-01 00:00:00          3  Silo 1  inferior         14.311821   \n",
       "3  2025-06-01 00:00:00          4  Silo 2  superior         14.289996   \n",
       "4  2025-06-01 00:00:00          5  Silo 2     medio         14.420994   \n",
       "\n",
       "   Humedad (%)   CO2 (%)  \n",
       "0     8.189056  3.164652  \n",
       "1     8.508008  2.728765  \n",
       "2     8.993510  2.550330  \n",
       "3    10.565392  3.738029  \n",
       "4     9.908821  3.247908  "
      ]
     },
     "metadata": {},
     "output_type": "display_data"
    },
    {
     "name": "stdout",
     "output_type": "stream",
     "text": [
      "<class 'pandas.core.frame.DataFrame'>\n",
      "RangeIndex: 2764 entries, 0 to 2763\n",
      "Data columns (total 7 columns):\n",
      " #   Column            Non-Null Count  Dtype  \n",
      "---  ------            --------------  -----  \n",
      " 0   Fecha y hora      2764 non-null   object \n",
      " 1   ID sensor         2764 non-null   int64  \n",
      " 2   ID silo           2764 non-null   object \n",
      " 3   Ubicación         2764 non-null   object \n",
      " 4   Temperatura (°C)  2522 non-null   float64\n",
      " 5   Humedad (%)       2533 non-null   float64\n",
      " 6   CO2 (%)           2535 non-null   float64\n",
      "dtypes: float64(3), int64(1), object(3)\n",
      "memory usage: 151.3+ KB\n"
     ]
    }
   ],
   "source": [
    "#Comprobaciones antes de transformar (confirmar que el archivo se cargó y ver tipos iniciales y valores de muestra.)\n",
    "\n",
    "import pandas as pd\n",
    "\n",
    "# Leer el archivo\n",
    "df = pd.read_csv('dataset_sensores.csv')\n",
    "\n",
    "# Chequeos rápidos\n",
    "print(\"Shape (filas, columnas):\", df.shape)\n",
    "display(df.head(5))\n",
    "df.info()\n"
   ]
  },
  {
   "cell_type": "code",
   "execution_count": 19,
   "metadata": {
    "executionInfo": {
     "elapsed": 991,
     "status": "aborted",
     "timestamp": 1760975544815,
     "user": {
      "displayName": "Mariano Melchiorre",
      "userId": "18299652292000033757"
     },
     "user_tz": 180
    },
    "id": "nPEEeG63dPnV"
   },
   "outputs": [
    {
     "name": "stdout",
     "output_type": "stream",
     "text": [
      "['fecha_y_hora', 'id_sensor', 'id_silo', 'ubicacion', 'temperatura_(c)', 'humedad_(%)', 'co2_(%)']\n"
     ]
    }
   ],
   "source": [
    "\n",
    "# Normalizar todos los nombres (para evitar problemas como: nombres con espacios, mayúsculas, tildes o caracteres raros dificultan el acceso por df.col.)\n",
    "df.columns = df.columns.str.strip().str.lower().str.replace(' ', '_').str.normalize('NFKD').str.encode('ascii', errors='ignore').str.decode('utf-8')\n",
    "\n",
    "# Verificamos\n",
    "print(df.columns.tolist())"
   ]
  },
  {
   "cell_type": "code",
   "execution_count": 25,
   "metadata": {
    "executionInfo": {
     "elapsed": 993,
     "status": "aborted",
     "timestamp": 1760975544817,
     "user": {
      "displayName": "Mariano Melchiorre",
      "userId": "18299652292000033757"
     },
     "user_tz": 180
    },
    "id": "JnvpTBfqmoEy"
   },
   "outputs": [
    {
     "name": "stdout",
     "output_type": "stream",
     "text": [
      "Fechas inválidas: 1674\n"
     ]
    }
   ],
   "source": [
    "#Convertir la columna de fecha/hora a tipo datetime (para poder ordenar por tiempo, agrupar por día/hora, o graficar series temporales)\n",
    "\n",
    "df['Fecha y hora'] = pd.to_datetime(df['Fecha y hora'], errors='coerce', dayfirst=True)\n",
    "\n",
    "# Verificá cuántos se convirtieron mal (NaT)\n",
    "print(\"Fechas inválidas:\", df['Fecha y hora'].isna().sum())"
   ]
  },
  {
   "cell_type": "code",
   "execution_count": 26,
   "metadata": {
    "executionInfo": {
     "elapsed": 1043,
     "status": "aborted",
     "timestamp": 1760975544868,
     "user": {
      "displayName": "Mariano Melchiorre",
      "userId": "18299652292000033757"
     },
     "user_tz": 180
    },
    "id": "D3_w6EjpnQSK"
   },
   "outputs": [
    {
     "name": "stdout",
     "output_type": "stream",
     "text": [
      "<class 'pandas.core.frame.DataFrame'>\n",
      "RangeIndex: 2764 entries, 0 to 2763\n",
      "Data columns (total 7 columns):\n",
      " #   Column            Non-Null Count  Dtype         \n",
      "---  ------            --------------  -----         \n",
      " 0   Fecha y hora      1090 non-null   datetime64[ns]\n",
      " 1   ID sensor         2764 non-null   int64         \n",
      " 2   ID silo           2764 non-null   object        \n",
      " 3   Ubicación         2764 non-null   object        \n",
      " 4   Temperatura (°C)  2522 non-null   float64       \n",
      " 5   Humedad (%)       2533 non-null   float64       \n",
      " 6   CO2 (%)           2535 non-null   float64       \n",
      "dtypes: datetime64[ns](1), float64(3), int64(1), object(2)\n",
      "memory usage: 151.3+ KB\n"
     ]
    }
   ],
   "source": [
    "# Verificación\n",
    "df['Fecha y hora'].head()\n",
    "df.info()"
   ]
  },
  {
   "cell_type": "code",
   "execution_count": 31,
   "metadata": {
    "executionInfo": {
     "elapsed": 1045,
     "status": "aborted",
     "timestamp": 1760975544870,
     "user": {
      "displayName": "Mariano Melchiorre",
      "userId": "18299652292000033757"
     },
     "user_tz": 180
    },
    "id": "OKm3_63DnrTG"
   },
   "outputs": [
    {
     "name": "stdout",
     "output_type": "stream",
     "text": [
      "Temperatura (°C)    242\n",
      "Humedad (%)         231\n",
      "CO2 (%)             229\n",
      "dtype: int64\n"
     ]
    },
    {
     "data": {
      "text/html": [
       "<div>\n",
       "<style scoped>\n",
       "    .dataframe tbody tr th:only-of-type {\n",
       "        vertical-align: middle;\n",
       "    }\n",
       "\n",
       "    .dataframe tbody tr th {\n",
       "        vertical-align: top;\n",
       "    }\n",
       "\n",
       "    .dataframe thead th {\n",
       "        text-align: right;\n",
       "    }\n",
       "</style>\n",
       "<table border=\"1\" class=\"dataframe\">\n",
       "  <thead>\n",
       "    <tr style=\"text-align: right;\">\n",
       "      <th></th>\n",
       "      <th>Temperatura (°C)</th>\n",
       "      <th>Humedad (%)</th>\n",
       "      <th>CO2 (%)</th>\n",
       "    </tr>\n",
       "  </thead>\n",
       "  <tbody>\n",
       "    <tr>\n",
       "      <th>count</th>\n",
       "      <td>2522.000000</td>\n",
       "      <td>2533.000000</td>\n",
       "      <td>2535.000000</td>\n",
       "    </tr>\n",
       "    <tr>\n",
       "      <th>mean</th>\n",
       "      <td>12.740412</td>\n",
       "      <td>10.203595</td>\n",
       "      <td>3.254031</td>\n",
       "    </tr>\n",
       "    <tr>\n",
       "      <th>std</th>\n",
       "      <td>2.300642</td>\n",
       "      <td>1.806859</td>\n",
       "      <td>0.596173</td>\n",
       "    </tr>\n",
       "    <tr>\n",
       "      <th>min</th>\n",
       "      <td>5.092145</td>\n",
       "      <td>5.100860</td>\n",
       "      <td>1.005183</td>\n",
       "    </tr>\n",
       "    <tr>\n",
       "      <th>25%</th>\n",
       "      <td>11.225412</td>\n",
       "      <td>8.975195</td>\n",
       "      <td>2.824550</td>\n",
       "    </tr>\n",
       "    <tr>\n",
       "      <th>50%</th>\n",
       "      <td>12.560414</td>\n",
       "      <td>10.040795</td>\n",
       "      <td>3.249065</td>\n",
       "    </tr>\n",
       "    <tr>\n",
       "      <th>75%</th>\n",
       "      <td>13.931851</td>\n",
       "      <td>11.157700</td>\n",
       "      <td>3.669371</td>\n",
       "    </tr>\n",
       "    <tr>\n",
       "      <th>max</th>\n",
       "      <td>24.859438</td>\n",
       "      <td>19.816532</td>\n",
       "      <td>5.996912</td>\n",
       "    </tr>\n",
       "  </tbody>\n",
       "</table>\n",
       "</div>"
      ],
      "text/plain": [
       "       Temperatura (°C)  Humedad (%)      CO2 (%)\n",
       "count       2522.000000  2533.000000  2535.000000\n",
       "mean          12.740412    10.203595     3.254031\n",
       "std            2.300642     1.806859     0.596173\n",
       "min            5.092145     5.100860     1.005183\n",
       "25%           11.225412     8.975195     2.824550\n",
       "50%           12.560414    10.040795     3.249065\n",
       "75%           13.931851    11.157700     3.669371\n",
       "max           24.859438    19.816532     5.996912"
      ]
     },
     "execution_count": 31,
     "metadata": {},
     "output_type": "execute_result"
    }
   ],
   "source": [
    "#Convertir columnas numéricas (temperatura, humedad, CO2) a tipo numérico para poder calcular luego medias, medianas, y escalar valores\n",
    "\n",
    "cols_num = ['Temperatura (°C)', 'Humedad (%)', 'CO2 (%)']\n",
    "for c in cols_num:\n",
    "    df[c] = pd.to_numeric(df[c], errors='coerce')\n",
    "\n",
    "# Chequeo de nulos resultantes\n",
    "print(df[cols_num].isnull().sum())\n",
    "df[cols_num].describe()\n"
   ]
  },
  {
   "cell_type": "code",
   "execution_count": 35,
   "metadata": {
    "executionInfo": {
     "elapsed": 1045,
     "status": "aborted",
     "timestamp": 1760975544871,
     "user": {
      "displayName": "Mariano Melchiorre",
      "userId": "18299652292000033757"
     },
     "user_tz": 180
    },
    "id": "vismiX274WNr"
   },
   "outputs": [],
   "source": [
    "# Escalar o normalizar (opcional) a rango 0-100\n",
    "# no es común normalizar CO2 a 0-100 salvo que sepas el rango esperado (a discutir con el grupo)\n",
    "\n",
    "def min_max_0_100(series):\n",
    "    minv = series.min(skipna=True)\n",
    "    maxv = series.max(skipna=True)\n",
    "    return (series - minv) / (maxv - minv) * 100\n",
    "\n",
    "# Ejemplo: crear columnas normalizadas solo si tiene sentido\n",
    "df['Temperatura (°C)'] = min_max_0_100(df['Temperatura (°C)'])\n",
    "df['Humedad (%)'] = min_max_0_100(df['Humedad (%)'])\n"
   ]
  },
  {
   "cell_type": "code",
   "execution_count": 39,
   "metadata": {
    "executionInfo": {
     "elapsed": 1045,
     "status": "aborted",
     "timestamp": 1760975544871,
     "user": {
      "displayName": "Mariano Melchiorre",
      "userId": "18299652292000033757"
     },
     "user_tz": 180
    },
    "id": "EOSkhshi5Kyp"
   },
   "outputs": [
    {
     "data": {
      "text/html": [
       "<div>\n",
       "<style scoped>\n",
       "    .dataframe tbody tr th:only-of-type {\n",
       "        vertical-align: middle;\n",
       "    }\n",
       "\n",
       "    .dataframe tbody tr th {\n",
       "        vertical-align: top;\n",
       "    }\n",
       "\n",
       "    .dataframe thead th {\n",
       "        text-align: right;\n",
       "    }\n",
       "</style>\n",
       "<table border=\"1\" class=\"dataframe\">\n",
       "  <thead>\n",
       "    <tr style=\"text-align: right;\">\n",
       "      <th></th>\n",
       "      <th>Temperatura (°C)</th>\n",
       "      <th>Humedad (%)</th>\n",
       "    </tr>\n",
       "  </thead>\n",
       "  <tbody>\n",
       "    <tr>\n",
       "      <th>0</th>\n",
       "      <td>42.506784</td>\n",
       "      <td>20.985764</td>\n",
       "    </tr>\n",
       "    <tr>\n",
       "      <th>1</th>\n",
       "      <td>30.953579</td>\n",
       "      <td>23.153194</td>\n",
       "    </tr>\n",
       "    <tr>\n",
       "      <th>2</th>\n",
       "      <td>46.641063</td>\n",
       "      <td>26.452409</td>\n",
       "    </tr>\n",
       "    <tr>\n",
       "      <th>3</th>\n",
       "      <td>46.530653</td>\n",
       "      <td>37.134095</td>\n",
       "    </tr>\n",
       "    <tr>\n",
       "      <th>4</th>\n",
       "      <td>47.193356</td>\n",
       "      <td>32.672382</td>\n",
       "    </tr>\n",
       "    <tr>\n",
       "      <th>5</th>\n",
       "      <td>44.909658</td>\n",
       "      <td>22.103349</td>\n",
       "    </tr>\n",
       "    <tr>\n",
       "      <th>6</th>\n",
       "      <td>49.762601</td>\n",
       "      <td>32.135919</td>\n",
       "    </tr>\n",
       "    <tr>\n",
       "      <th>7</th>\n",
       "      <td>44.154071</td>\n",
       "      <td>41.520840</td>\n",
       "    </tr>\n",
       "    <tr>\n",
       "      <th>8</th>\n",
       "      <td>32.393842</td>\n",
       "      <td>30.171551</td>\n",
       "    </tr>\n",
       "    <tr>\n",
       "      <th>9</th>\n",
       "      <td>28.822771</td>\n",
       "      <td>28.136688</td>\n",
       "    </tr>\n",
       "  </tbody>\n",
       "</table>\n",
       "</div>"
      ],
      "text/plain": [
       "   Temperatura (°C)  Humedad (%)\n",
       "0         42.506784    20.985764\n",
       "1         30.953579    23.153194\n",
       "2         46.641063    26.452409\n",
       "3         46.530653    37.134095\n",
       "4         47.193356    32.672382\n",
       "5         44.909658    22.103349\n",
       "6         49.762601    32.135919\n",
       "7         44.154071    41.520840\n",
       "8         32.393842    30.171551\n",
       "9         28.822771    28.136688"
      ]
     },
     "execution_count": 39,
     "metadata": {},
     "output_type": "execute_result"
    }
   ],
   "source": [
    "# Verificación\n",
    "df[['Temperatura (°C)','Humedad (%)']].head(10)"
   ]
  },
  {
   "cell_type": "markdown",
   "metadata": {
    "id": "P9gGEgls-tWS"
   },
   "source": [
    "Tratamiento de valores faltantes / duplicados"
   ]
  },
  {
   "cell_type": "code",
   "execution_count": 40,
   "metadata": {
    "executionInfo": {
     "elapsed": 1117,
     "status": "aborted",
     "timestamp": 1760975544944,
     "user": {
      "displayName": "Mariano Melchiorre",
      "userId": "18299652292000033757"
     },
     "user_tz": 180
    },
    "id": "zDZMVpKR-xpq"
   },
   "outputs": [],
   "source": [
    "# Numéricos: usar la MEDIANA (resiste valores extremos)\n",
    "\n",
    "for c in cols_num:\n",
    "    if c in df.columns:\n",
    "        med = df[c].median(skipna=True)\n",
    "        df[c] = df[c].fillna(med)\n"
   ]
  },
  {
   "cell_type": "code",
   "execution_count": 41,
   "metadata": {
    "executionInfo": {
     "elapsed": 1117,
     "status": "aborted",
     "timestamp": 1760975544945,
     "user": {
      "displayName": "Mariano Melchiorre",
      "userId": "18299652292000033757"
     },
     "user_tz": 180
    },
    "id": "DMMmBwXw_GIP"
   },
   "outputs": [],
   "source": [
    "# Categóricos: reemplazar nulos con 'desconocido'\n",
    "\n",
    "cols_cat = ['id_silo', 'ubicacion', 'id_sensor']\n",
    "for c in cols_cat:\n",
    "    if c in df.columns:\n",
    "        df[c] = df[c].fillna('desconocido')\n"
   ]
  },
  {
   "cell_type": "code",
   "execution_count": 42,
   "metadata": {
    "executionInfo": {
     "elapsed": 51,
     "status": "aborted",
     "timestamp": 1760975544997,
     "user": {
      "displayName": "Mariano Melchiorre",
      "userId": "18299652292000033757"
     },
     "user_tz": 180
    },
    "id": "0Pm5rMvY_Us4"
   },
   "outputs": [],
   "source": [
    "# Fechas: eliminar filas con fecha no válida\n",
    "\n",
    "if 'fecha_hora' in df.columns:\n",
    "    df = df.dropna(subset=['fecha_hora'])\n"
   ]
  },
  {
   "cell_type": "code",
   "execution_count": 43,
   "metadata": {
    "executionInfo": {
     "elapsed": 9,
     "status": "aborted",
     "timestamp": 1760975544998,
     "user": {
      "displayName": "Mariano Melchiorre",
      "userId": "18299652292000033757"
     },
     "user_tz": 180
    },
    "id": "sJJiAFBF_ZJv"
   },
   "outputs": [],
   "source": [
    "# Eliminar registros duplicados (todas las columnas iguales)\n",
    "df = df.drop_duplicates()\n"
   ]
  },
  {
   "cell_type": "markdown",
   "metadata": {
    "id": "3Inkylx5_k8g"
   },
   "source": [
    "Ordenamos"
   ]
  },
  {
   "cell_type": "code",
   "execution_count": 44,
   "metadata": {
    "executionInfo": {
     "elapsed": 3,
     "status": "aborted",
     "timestamp": 1760975544999,
     "user": {
      "displayName": "Mariano Melchiorre",
      "userId": "18299652292000033757"
     },
     "user_tz": 180
    },
    "id": "bM0ocdoJ_od7"
   },
   "outputs": [],
   "source": [
    "# Ordenar por fecha y reiniciar el índice\n",
    "\n",
    "if 'fecha_hora' in df.columns:\n",
    "    df = df.sort_values('fecha_hora').reset_index(drop=True)\n"
   ]
  },
  {
   "cell_type": "code",
   "execution_count": 45,
   "metadata": {
    "executionInfo": {
     "elapsed": 1,
     "status": "aborted",
     "timestamp": 1760975545000,
     "user": {
      "displayName": "Mariano Melchiorre",
      "userId": "18299652292000033757"
     },
     "user_tz": 180
    },
    "id": "aFD4Qkad_19C"
   },
   "outputs": [
    {
     "name": "stdout",
     "output_type": "stream",
     "text": [
      "\n",
      "Resumen después de limpiar:\n",
      "<class 'pandas.core.frame.DataFrame'>\n",
      "Index: 2720 entries, 0 to 2753\n",
      "Data columns (total 7 columns):\n",
      " #   Column            Non-Null Count  Dtype         \n",
      "---  ------            --------------  -----         \n",
      " 0   Fecha y hora      1080 non-null   datetime64[ns]\n",
      " 1   ID sensor         2720 non-null   int64         \n",
      " 2   ID silo           2720 non-null   object        \n",
      " 3   Ubicación         2720 non-null   object        \n",
      " 4   Temperatura (°C)  2720 non-null   float64       \n",
      " 5   Humedad (%)       2720 non-null   float64       \n",
      " 6   CO2 (%)           2720 non-null   float64       \n",
      "dtypes: datetime64[ns](1), float64(3), int64(1), object(2)\n",
      "memory usage: 170.0+ KB\n",
      "None\n",
      "\n",
      "Nulos por columna:\n",
      "Fecha y hora        1640\n",
      "ID sensor              0\n",
      "ID silo                0\n",
      "Ubicación              0\n",
      "Temperatura (°C)       0\n",
      "Humedad (%)            0\n",
      "CO2 (%)                0\n",
      "dtype: int64\n"
     ]
    },
    {
     "data": {
      "text/html": [
       "<div>\n",
       "<style scoped>\n",
       "    .dataframe tbody tr th:only-of-type {\n",
       "        vertical-align: middle;\n",
       "    }\n",
       "\n",
       "    .dataframe tbody tr th {\n",
       "        vertical-align: top;\n",
       "    }\n",
       "\n",
       "    .dataframe thead th {\n",
       "        text-align: right;\n",
       "    }\n",
       "</style>\n",
       "<table border=\"1\" class=\"dataframe\">\n",
       "  <thead>\n",
       "    <tr style=\"text-align: right;\">\n",
       "      <th></th>\n",
       "      <th>Fecha y hora</th>\n",
       "      <th>ID sensor</th>\n",
       "      <th>ID silo</th>\n",
       "      <th>Ubicación</th>\n",
       "      <th>Temperatura (°C)</th>\n",
       "      <th>Humedad (%)</th>\n",
       "      <th>CO2 (%)</th>\n",
       "    </tr>\n",
       "  </thead>\n",
       "  <tbody>\n",
       "    <tr>\n",
       "      <th>0</th>\n",
       "      <td>2025-01-06</td>\n",
       "      <td>1</td>\n",
       "      <td>Silo 1</td>\n",
       "      <td>superior</td>\n",
       "      <td>42.506784</td>\n",
       "      <td>20.985764</td>\n",
       "      <td>3.164652</td>\n",
       "    </tr>\n",
       "    <tr>\n",
       "      <th>1</th>\n",
       "      <td>2025-01-06</td>\n",
       "      <td>2</td>\n",
       "      <td>Silo 1</td>\n",
       "      <td>medio</td>\n",
       "      <td>30.953579</td>\n",
       "      <td>23.153194</td>\n",
       "      <td>2.728765</td>\n",
       "    </tr>\n",
       "    <tr>\n",
       "      <th>2</th>\n",
       "      <td>2025-01-06</td>\n",
       "      <td>3</td>\n",
       "      <td>Silo 1</td>\n",
       "      <td>inferior</td>\n",
       "      <td>46.641063</td>\n",
       "      <td>26.452409</td>\n",
       "      <td>2.550330</td>\n",
       "    </tr>\n",
       "    <tr>\n",
       "      <th>3</th>\n",
       "      <td>2025-01-06</td>\n",
       "      <td>4</td>\n",
       "      <td>Silo 2</td>\n",
       "      <td>superior</td>\n",
       "      <td>46.530653</td>\n",
       "      <td>37.134095</td>\n",
       "      <td>3.738029</td>\n",
       "    </tr>\n",
       "    <tr>\n",
       "      <th>4</th>\n",
       "      <td>2025-01-06</td>\n",
       "      <td>5</td>\n",
       "      <td>Silo 2</td>\n",
       "      <td>medio</td>\n",
       "      <td>47.193356</td>\n",
       "      <td>32.672382</td>\n",
       "      <td>3.247908</td>\n",
       "    </tr>\n",
       "  </tbody>\n",
       "</table>\n",
       "</div>"
      ],
      "text/plain": [
       "  Fecha y hora  ID sensor ID silo Ubicación  Temperatura (°C)  Humedad (%)  \\\n",
       "0   2025-01-06          1  Silo 1  superior         42.506784    20.985764   \n",
       "1   2025-01-06          2  Silo 1     medio         30.953579    23.153194   \n",
       "2   2025-01-06          3  Silo 1  inferior         46.641063    26.452409   \n",
       "3   2025-01-06          4  Silo 2  superior         46.530653    37.134095   \n",
       "4   2025-01-06          5  Silo 2     medio         47.193356    32.672382   \n",
       "\n",
       "    CO2 (%)  \n",
       "0  3.164652  \n",
       "1  2.728765  \n",
       "2  2.550330  \n",
       "3  3.738029  \n",
       "4  3.247908  "
      ]
     },
     "metadata": {},
     "output_type": "display_data"
    }
   ],
   "source": [
    "# Comprobación final\n",
    "\n",
    "print(\"\\nResumen después de limpiar:\")\n",
    "print(df.info())\n",
    "print(\"\\nNulos por columna:\")\n",
    "print(df.isnull().sum())\n",
    "display(df.head())\n"
   ]
  },
  {
   "cell_type": "code",
   "execution_count": null,
   "metadata": {
    "executionInfo": {
     "elapsed": 1,
     "status": "aborted",
     "timestamp": 1760975545002,
     "user": {
      "displayName": "Mariano Melchiorre",
      "userId": "18299652292000033757"
     },
     "user_tz": 180
    },
    "id": "CZFIHHCd_5Y_"
   },
   "outputs": [],
   "source": []
  }
 ],
 "metadata": {
  "colab": {
   "provenance": []
  },
  "kernelspec": {
   "display_name": "Python 3 (ipykernel)",
   "language": "python",
   "name": "python3"
  },
  "language_info": {
   "codemirror_mode": {
    "name": "ipython",
    "version": 3
   },
   "file_extension": ".py",
   "mimetype": "text/x-python",
   "name": "python",
   "nbconvert_exporter": "python",
   "pygments_lexer": "ipython3",
   "version": "3.13.5"
  }
 },
 "nbformat": 4,
 "nbformat_minor": 4
}
